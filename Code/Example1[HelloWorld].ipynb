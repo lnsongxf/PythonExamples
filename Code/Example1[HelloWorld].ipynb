{
 "worksheets": [
  {
   "cells": [
    {
     "cell_type": "code",
     "metadata": {},
     "outputs": [
      {
       "output_type": "stream",
       "stream": "Hello, World!\n",
       "text": [
        "Hello, World!\n"
       ]
      }
     ],
     "input": [
      "print('Hello, World!')"
     ],
     "language": "python"
    },
    {
     "cell_type": "markdown",
     "metadata": {},
     "source": [
      "This is an [IPython](http://ipython.org/) notebook. "
     ]
    }
   ]
  }
 ],
 "cells": [],
 "metadata": {},
 "nbformat": 3,
 "nbformat_minor": 0
}