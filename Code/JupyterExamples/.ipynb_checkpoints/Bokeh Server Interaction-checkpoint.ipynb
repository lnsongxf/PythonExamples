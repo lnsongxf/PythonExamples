{
 "cells": [
  {
   "cell_type": "code",
   "execution_count": 1,
   "metadata": {
    "collapsed": true
   },
   "outputs": [],
   "source": [
    "# http://brocktane.net/blog/bokeh-server-example/\n",
    "from bokeh.plotting import hplot, figure, show, output_server, Session\n",
    "from numpy import arange, sin, cos\n",
    "session = Session(root_url='http://127.0.0.1:5006/', load_from_config=False)\n",
    "session.login('tirthankar', '')\n",
    "output_server('test', session=session)\n",
    "\n",
    "x = arange(0, 10, .1)\n",
    "y1 = sin(x)\n",
    "y2 = cos(x)\n",
    "fig1 = figure(title='sin', plot_width=500, plot_height=200)\n",
    "fig1.line(x, y1)\n",
    "fig2 = figure(title='cos', plot_width=500, plot_height=200)\n",
    "fig2.line(x, y2)\n",
    "plot = hplot(fig1, fig2)\n",
    "\n",
    "show(plot)"
   ]
  }
 ],
 "metadata": {
  "kernelspec": {
   "display_name": "Python 3",
   "language": "python",
   "name": "python3"
  },
  "language_info": {
   "codemirror_mode": {
    "name": "ipython",
    "version": 3
   },
   "file_extension": ".py",
   "mimetype": "text/x-python",
   "name": "python",
   "nbconvert_exporter": "python",
   "pygments_lexer": "ipython3",
   "version": "3.4.2"
  }
 },
 "nbformat": 4,
 "nbformat_minor": 0
}
